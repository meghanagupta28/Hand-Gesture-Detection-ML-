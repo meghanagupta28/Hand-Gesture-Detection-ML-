{
 "cells": [
  {
   "cell_type": "code",
   "execution_count": null,
   "metadata": {},
   "outputs": [],
   "source": [
    "import tensorflow as tf\n",
    "import cv2\n",
    "import os\n",
    "import numpy"
   ]
  },
  {
   "cell_type": "code",
   "execution_count": null,
   "metadata": {},
   "outputs": [],
   "source": []
  },
  {
   "cell_type": "code",
   "execution_count": 1,
   "metadata": {},
   "outputs": [
    {
     "name": "stdout",
     "output_type": "stream",
     "text": [
      "Application exited\n"
     ]
    }
   ],
   "source": [
    "import cv2\n",
    "import mediapipe as mp\n",
    "from cvzone.HandTrackingModule import HandDetector\n",
    "\n",
    "\n",
    "cam = cv2.VideoCapture(0)\n",
    "detect = HandDetector(maxHands=1)\n",
    "\n",
    "cv2.namedWindow(\"Hand Gesture\")\n",
    "\n",
    "img_counter = 0\n",
    "offset = 30\n",
    "\n",
    "while True:\n",
    "    \n",
    "\n",
    "    success, frame = cam.read()\n",
    "\n",
    "    output = frame.copy()\n",
    "\n",
    "    k = cv2.waitKey(1)\n",
    "    \n",
    "    if k%256 == 27:\n",
    "        print(\"Application exited\")\n",
    "        break\n",
    "\n",
    "    hands = detect.findHands(frame, draw = False)\n",
    "\n",
    "    if hands:\n",
    "        hand = hands[0]\n",
    "        x, y, w, h = hand['bbox']\n",
    "    \n",
    "    # cv2.putText(cam, labels[index], (x, y-10),cv2.FONT_HERSHEY_SIMPLEX, 2,(250, 0, 250),2)\n",
    "        cv2.rectangle(output, (x - offset, y - offset), (x+w+offset, y+h+offset), (250, 0, 250), 4)\n",
    "    \n",
    "    cv2.imshow(\"Sign\", output)\n",
    "\n",
    "cam.release()\n",
    "cv2.destroyAllWindows()"
   ]
  }
 ],
 "metadata": {
  "kernelspec": {
   "display_name": "Python 3",
   "language": "python",
   "name": "python3"
  },
  "language_info": {
   "codemirror_mode": {
    "name": "ipython",
    "version": 3
   },
   "file_extension": ".py",
   "mimetype": "text/x-python",
   "name": "python",
   "nbconvert_exporter": "python",
   "pygments_lexer": "ipython3",
   "version": "3.10.4"
  },
  "orig_nbformat": 4
 },
 "nbformat": 4,
 "nbformat_minor": 2
}
